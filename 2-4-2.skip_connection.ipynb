{
 "cells": [
  {
   "cell_type": "markdown",
   "id": "3aecd1c9",
   "metadata": {},
   "source": [
    "https://pytorch.org/vision/0.8/_modules/torchvision/models/resnet.html\n",
    "\n",
    "\n",
    "Basic Block vs. Bottleneck Block\n"
   ]
  },
  {
   "cell_type": "markdown",
   "id": "ccfa5964",
   "metadata": {},
   "source": [
    "![](./data/4_resnet_basicblock_bottleneck.png)"
   ]
  },
  {
   "cell_type": "markdown",
   "id": "fecbf1a7",
   "metadata": {},
   "source": [
    "![image](https://github.com/OC-JSPark/oc-jspark.github.io/assets/46878973/1ba22ae8-a07f-4ede-92b1-f60690a8ecc9)"
   ]
  },
  {
   "cell_type": "markdown",
   "id": "6f25d917",
   "metadata": {},
   "source": [
    "[basic block]\n",
    "VGG구조에 맞게 3x3 convolution 구조로 되어있다.\n",
    "3x3 conv 2개가 중첩되어있음. 그리고 skip connection이 존재해서\n",
    "이걸 더해주는 형태이며, relu로 activation을 2번해준다.\n",
    "\n",
    "[bottleneck block]\n",
    "resnet-50,101,152가 bottlenect block구조이다.\n",
    "input으로 256개의 채널이 들어오면 1x1 conv를 통과시켜주면서 64개의 channel로 줄여준다.  그걸 3x3 conv를 통과하고 1x1 conv통과하면서 다시 256 channel로 만들어준다. 그리고 이전에 있던거까지 더하는 skip connection해줘서 256 channel이 같은 size와의 tensor와 더해지게 된다.\n",
    "bottleneck구조는 basi block과 비스산 complexity구조를 가진다. \n",
    "더깊게 쌓아도 block개수가 늘어나는 정도만의 complex가 증가하는것만 있다.\n",
    "\n",
    "-----------------------------------------\n",
    "\n",
    "torchvision에서 resnet을 구현하게 보인다.\n",
    "기본적인 pytorch의 operation만 사용해서 resnet을 구현함.\n",
    "pretrain=true하면 model_url에서 다운로드가 되는구조\n",
    "conv3x3, conv1x1이 정의되어있고\n",
    "in_planes, out_planes은 input channel수, output channel수를 나타낸다.\n",
    "basicblock에서 slide에서 본것같이 구현이 되어있다.\n",
    "forward보면 2개의 layer가 중첩이 되어있고, 마지막에 downsampling(max pooling)을 하게된다면 이라는 if문추가해줌.\n",
    "out += identity : 이게 중요한부분이다. 이것이 identity를 더해주는 connection부분이다. \n",
    "그리고 마지막에 relu를 통과시켜서 basic block하나를 구성하였다.\n",
    "\n",
    "Bottleneck block은 width라고해서 중간 parmater, middle range의 channel수를 정해주는 parameter를 정의해둠.\n",
    "\n",
    "------------------------------------------------\n",
    "\n",
    "이렇게 만들어진 basic, botteleck block을 resnet구조에 넣어준다.\n",
    "block과 layer를 input으로 받아서 구조를 정의해줌.\n",
    "\n",
    "bottleneck block이 image classification 에서는 좋음. semantic segmentation, image matching같은 task에서는 달라진 결과가 나올수있음.\n",
    "\n",
    "이를 backbone으로 사용도 가능하다."
   ]
  },
  {
   "cell_type": "code",
   "execution_count": null,
   "id": "d7fd6371",
   "metadata": {},
   "outputs": [],
   "source": []
  }
 ],
 "metadata": {
  "kernelspec": {
   "display_name": "isp2",
   "language": "python",
   "name": "isp2"
  },
  "language_info": {
   "codemirror_mode": {
    "name": "ipython",
    "version": 3
   },
   "file_extension": ".py",
   "mimetype": "text/x-python",
   "name": "python",
   "nbconvert_exporter": "python",
   "pygments_lexer": "ipython3",
   "version": "3.9.7"
  }
 },
 "nbformat": 4,
 "nbformat_minor": 5
}
