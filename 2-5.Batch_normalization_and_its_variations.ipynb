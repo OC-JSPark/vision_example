{
 "cells": [
  {
   "cell_type": "markdown",
   "id": "8d1bdc64",
   "metadata": {},
   "source": [
    "# Batch normalization , Layer Normalization,  Instance Normalization, and Group Normalization\n",
    "\n",
    "\n",
    "![image](https://github.com/OC-JSPark/oc-jspark.github.io/assets/46878973/82439224-d699-46a3-ba82-d439bd5dd0f6)\n",
    "\n",
    "https://wandb.ai/wandb_fc/GroupNorm/reports/Group-Normalization-in-Pytorch-With-Examples---VmlldzoxMzU0MzMy\n",
    "\n",
    "\n",
    "\n",
    "https://pytorch.org/docs/stable/generated/torch.nn.GroupNorm.html\n",
    "\n",
    "resnet에서 성능향상에 중요한 영향을 준 batch normalization 과 variation에 대해서 확인해보기\n",
    "\n",
    "batch normalization : batch 기반의 normalize기법으로 internal covariance shift덕분에 잘된다. 그러나 추후에는 optimize randscape를 smoothing시켜줘서 안정적인 학습을 가능하게 해줌.\n",
    "단점 : batch size에 민감함. batch size가 32,256,1024를 쓸때는 잘됨. 그러나 그 이하일떄는 size가 줄어들수록 성능이 매우 크게 감소함. \n",
    "그래서 대안으로 나온게 layer norm, instance norm, group norm이 있다.\n",
    "N : batch\n",
    "C : channel\n",
    "W : image width size\n",
    "\n",
    "batch norm : 한채널에 대해서 normalize가 각각되는것.\n",
    "layer norm : 모든 channel을 한번에 normalize한다.하나의 instance에 대해서 normalize한다, input size가 제한이 되어있을떄(RNN같은구조에서는 sequence가 계속 늘어날수있음.) 성능이 좋을수있다. RNN에서 layer norm을 그래서 주로 쓴다. 해당 논문보면 batch norm은 RNN에서 잘안된다.\n",
    "instance norm : 채널 하나에 대해서 normalize한다. 즉, batch norm과 똑같지만, instance 단위로 되는게 다른점, batch가 중요하지 않은경우 매우 효과적임.image match같은경우, 혹은 batch 간에 corelation 이 없는경우 매우 효과적임.예를들면 optical flow같은 문제가 있는경우 이미지 2장사이에서 차이를 구해야하는데 차이를 구할때 pair1과 pair2가 관계가 없을수도 있다. 이럴때 instance norm을 쓰는게 좋다. \n",
    "* image classification은 batch사이에서 corelation이 잇다.  두 장 사이에 instance를 고려해줘야 하기때문에 batch norm을 쓰는게 효과적이지만 그렇지 않은경우에 batch norm을 쓰면 코릴레이션도 없는데 같이 normalize해주면 안좋은결과를 줄수있다.\n",
    "\n",
    "group norm : 그룹을 나눠서 그룹별로 normalization한다, batch size가 작아질때 group norm 보다 batch norm error가 엄청커진다. group norm은 안정적이다.\n",
    "\n",
    "https://pytorch.org/docs/stable/nn.html#normalization-layers\n",
    "여기서 normalization layers로 들어가서 각 해당 normalize에 대한 논문을볼수있다."
   ]
  },
  {
   "cell_type": "code",
   "execution_count": 1,
   "id": "51e99151",
   "metadata": {},
   "outputs": [],
   "source": [
    "import torch, torchvision\n",
    "import torch.nn as nn\n",
    "import torchvision.models as models\n",
    "import torchvision.datasets as datasets\n",
    "\n",
    "import matplotlib.pyplot as plt\n",
    "from PIL import Image"
   ]
  },
  {
   "cell_type": "markdown",
   "id": "cac5a629",
   "metadata": {},
   "source": [
    "\n",
    "Batch norm, layer norm, instance norm, group norm\n",
    "\n",
    "https://pytorch.org/docs/stable/nn.html\n",
    "\n",
    "\n",
    "\n",
    "\n",
    "\n",
    "https://pytorch.org/docs/stable/generated/torch.nn.LayerNorm.html#torch.nn.LayerNorm\n",
    "\n",
    "https://pytorch.org/docs/stable/generated/torch.nn.GroupNorm.html\n",
    "    "
   ]
  },
  {
   "cell_type": "code",
   "execution_count": 3,
   "id": "ae8a809d",
   "metadata": {},
   "outputs": [],
   "source": [
    "## batchnorm에서는 2차원 tensor에 대해서 n,c,hw에 대해서 채널만 주면 normalize해주는것.\n",
    "## 이걸해주면 instance를 만들어진다. 이게 핵심임. \n",
    "## layernorm도 input shape이 먼지 넣어주면 끝.\n",
    "## input channel과 output channel이 어떻게 나올지 network를 추가로 만들어준것임\n",
    "## group norm은 group 기반으로 한다. channel 1024가 있으면 group 2개라고 한다면\n",
    "## 512개씩 나눠서 가질테니깐 그룹사이즈를 미리 정해줘야 한다.\n",
    "## 그래서 group size까지 parameter로 받아주는게 해당 클래스의 특징이다.\n",
    "\n",
    "class BatchNorm(nn.Module):\n",
    "    def __init__(self, in_channel, out_channels):\n",
    "        super(BatchNorm, self).__init__()\n",
    "        self.bn = nn.BatchNorm2d(in_channel)\n",
    "        \n",
    "    def forward(self,x):\n",
    "        out = self.bn(x)  #[N, C, HW] -> [N, C, HW]\n",
    "        \n",
    "        \n",
    "        return out\n",
    "\n",
    "    \n",
    "## For different sequences, e.g., RNN.\n",
    "class LayerNorm(nn.Module):\n",
    "    def __init__(self, in_shape, out_channels):\n",
    "        super(LayerNorm, self).__init__()\n",
    "        ## 아래처럼 추가로 만들어줘도 된다.\n",
    "        ## self.conv = nn.Conv2D(in_shape, out_shape, kernel, stride,dlate)\n",
    "        self.ln = nn.LayerNorm(in_shape, eps=1e-08)\n",
    "\n",
    "    def forward(self,x):\n",
    "        out = self.ln(x)  #[N, C, HW] -> [N, C, HW]\n",
    "\n",
    "        \n",
    "        return out\n",
    "\n",
    "    \n",
    "## For style transfer, domain adaptation.\n",
    "class InstanceNorm(nn.Module):\n",
    "    def __init__(self, in_channel, out_channels):\n",
    "        super(InstanceNorm, self).__init__()\n",
    "        self.In = nn.InstanceNorm2d(in_channel, eps=1e-08) \n",
    "\n",
    "    def forward(self,x):\n",
    "        out = self.In(x)  #[N, C, HW] -> [N, C, HW]\n",
    "        return out\n",
    "\n",
    "    \n",
    "## stable in small batch size.\n",
    "class GroupNorm(nn.Module):\n",
    "    def __init__(self, group_size, in_channel, out_channels):\n",
    "        super(GroupNorm, self).__init__()\n",
    "        self.gn = nn.GroupNorm(group_size, in_channel, eps=1e-08)  ## num_group and in_channel\n",
    "\n",
    "    def forward(self,x):\n",
    "        out = self.gn(x) #[N, C, HW] -> [N, C, HW]\n",
    "        \n",
    "        return out\n"
   ]
  },
  {
   "cell_type": "code",
   "execution_count": 6,
   "id": "0b15bb33",
   "metadata": {},
   "outputs": [
    {
     "name": "stdout",
     "output_type": "stream",
     "text": [
      "torch.Size([8, 64, 120, 120])\n"
     ]
    }
   ],
   "source": [
    "in_channel = 64\n",
    "feature = torch.randn(8, in_channel, 120, 120)  ## temp tensor [B, C, H, W]\n",
    "\n",
    "## batchnorm layer만들어주고 batchnorm 통과시켜주면\n",
    "BN = BatchNorm(in_channel, out_channels=64)\n",
    "## output feature가 나오게 된다.\n",
    "out_feat = BN(feature)\n",
    "\n",
    "print(out_feat.shape)       ## normalize된 output이며, shape은 똑같고, batch 단위로 전체가 normalize된것\n",
    "                            ## 8개 한번에 normalize된것."
   ]
  },
  {
   "cell_type": "code",
   "execution_count": 8,
   "id": "017bb7f9",
   "metadata": {},
   "outputs": [
    {
     "name": "stdout",
     "output_type": "stream",
     "text": [
      "torch.Size([8, 64, 120, 120])\n"
     ]
    }
   ],
   "source": [
    "## input shape이 batch단위로 되는게 아니다.\n",
    "## 이전에는 input channel인데 layernorm은 input shape을 넣어줘야한다.\n",
    "LN = LayerNorm(in_shape=list(feature.shape[1:]), out_channels=64)\n",
    "\n",
    "out_feat = LN(feature)\n",
    "\n",
    "print(out_feat.shape)   ## 8개. 즉 각각이 따로 normalize되는것."
   ]
  },
  {
   "cell_type": "code",
   "execution_count": 9,
   "id": "4b91e4bb",
   "metadata": {},
   "outputs": [
    {
     "name": "stdout",
     "output_type": "stream",
     "text": [
      "torch.Size([8, 64, 120, 120])\n"
     ]
    }
   ],
   "source": [
    "IN=InstanceNorm(in_channel, out_channels=64)\n",
    "\n",
    "out_feat = IN(feature)\n",
    "\n",
    "print(out_feat.shape)   ## 8,64를 제외하고 120이 한번에 normalize되는것."
   ]
  },
  {
   "cell_type": "code",
   "execution_count": 10,
   "id": "e76e8af7",
   "metadata": {},
   "outputs": [
    {
     "name": "stdout",
     "output_type": "stream",
     "text": [
      "torch.Size([8, 64, 120, 120])\n",
      "torch.Size([8, 64, 120, 120])\n"
     ]
    }
   ],
   "source": [
    "GN=GroupNorm(group_size=2, in_channel=in_channel, out_channels=64)\n",
    "\n",
    "out_feat = GN(feature)\n",
    "\n",
    "print(out_feat.shape)  ## 32 / 32 : 32개씩 나눠진 채널들이 그룹normalize된다.\n",
    "\n",
    "GN=GroupNorm(group_size=4, in_channel=in_channel, out_channels=64)\n",
    "\n",
    "out_feat = GN(feature)\n",
    "\n",
    "print(out_feat.shape)  ## 16 / 16 / 16 / 16 : 16개씩 나눠진것."
   ]
  },
  {
   "cell_type": "code",
   "execution_count": null,
   "id": "d5a31887",
   "metadata": {},
   "outputs": [],
   "source": []
  },
  {
   "cell_type": "code",
   "execution_count": null,
   "id": "7c66c61c",
   "metadata": {},
   "outputs": [],
   "source": []
  }
 ],
 "metadata": {
  "kernelspec": {
   "display_name": "isp2",
   "language": "python",
   "name": "isp2"
  },
  "language_info": {
   "codemirror_mode": {
    "name": "ipython",
    "version": 3
   },
   "file_extension": ".py",
   "mimetype": "text/x-python",
   "name": "python",
   "nbconvert_exporter": "python",
   "pygments_lexer": "ipython3",
   "version": "3.9.7"
  }
 },
 "nbformat": 4,
 "nbformat_minor": 5
}
